{
 "cells": [
  {
   "cell_type": "markdown",
   "id": "9135cf71",
   "metadata": {},
   "source": [
    "\n",
    "\n",
    "## Importing  all lib and dic \n"
   ]
  },
  {
   "cell_type": "code",
   "execution_count": 5,
   "id": "370b29f2",
   "metadata": {},
   "outputs": [],
   "source": [
    "import requests \n",
    "import numpy as np\n",
    "import pandas as pd\n",
    "import re\n",
    "from bs4 import BeautifulSoup\n",
    "\n",
    "import matplotlib.pyplot as plt\n",
    "import seaborn as sns\n"
   ]
  },
  {
   "cell_type": "markdown",
   "id": "fdadecfb",
   "metadata": {},
   "source": [
    "### Getting url from ipl database"
   ]
  },
  {
   "cell_type": "code",
   "execution_count": 6,
   "id": "01a7b42f",
   "metadata": {},
   "outputs": [],
   "source": [
    "page=requests.get(\"http://howstat.com/cricket/Statistics/IPL/PlayerList.asp\")\n"
   ]
  },
  {
   "cell_type": "markdown",
   "id": "10ae7759",
   "metadata": {},
   "source": [
    "### applying soup condition for web scraping"
   ]
  },
  {
   "cell_type": "code",
   "execution_count": 7,
   "id": "c9b424d1",
   "metadata": {},
   "outputs": [],
   "source": [
    "pagecon=page.text\n",
    "soup=BeautifulSoup(pagecon)"
   ]
  },
  {
   "cell_type": "markdown",
   "id": "78d6c08c",
   "metadata": {},
   "source": [
    "### extracting table data using soup "
   ]
  },
  {
   "cell_type": "code",
   "execution_count": 8,
   "id": "276c2a69",
   "metadata": {},
   "outputs": [],
   "source": [
    "table = soup.find(\"table\",attrs={'class':'TableLined'})\n",
    "\n",
    "rows=table.findAll(\"tr\")\n"
   ]
  },
  {
   "cell_type": "code",
   "execution_count": 9,
   "id": "54b09cbf",
   "metadata": {
    "scrolled": false
   },
   "outputs": [],
   "source": [
    "table = soup.find(\"table\",attrs={'class':'TableLined'})\n",
    "\n",
    "rows=table.findAll(\"tr\")\n",
    "\n",
    "data = [[td.findChildren(text=True) for td in tr.findAll(\"td\")] for tr in rows]\n",
    "\n",
    "    \n",
    "            \n",
    "#TableHeadingLeft\n",
    "# for x in soup.find_all('td',attrs={'class':\"TableHeadingLeft\"}):\n",
    "#     print(x.text)\n",
    "\n",
    "    "
   ]
  },
  {
   "cell_type": "markdown",
   "id": "dacd113c",
   "metadata": {},
   "source": [
    "###  remove the unwanted spaces in data frame"
   ]
  },
  {
   "cell_type": "code",
   "execution_count": 10,
   "id": "ed1f8440",
   "metadata": {
    "scrolled": false
   },
   "outputs": [],
   "source": [
    "\n",
    "data = [[\"\".join(e).strip() for e in l] for l in data]\n",
    "\n"
   ]
  },
  {
   "cell_type": "code",
   "execution_count": 11,
   "id": "ecde80f4",
   "metadata": {},
   "outputs": [],
   "source": [
    "# create the dataframe\n",
    "df1=pd.DataFrame(data ,columns=['Name', 'Team(s)', 'Matches', 'Runs', 'Bat Avg', 'Wickets', 'Bowl Avg'])\n"
   ]
  },
  {
   "cell_type": "code",
   "execution_count": 12,
   "id": "f5b74cdc",
   "metadata": {},
   "outputs": [],
   "source": [
    "#alter the index \n",
    "df1=df1.iloc[1:]"
   ]
  },
  {
   "cell_type": "markdown",
   "id": "a5b7ba33",
   "metadata": {},
   "source": [
    "### create the csv "
   ]
  },
  {
   "cell_type": "code",
   "execution_count": 16,
   "id": "d44165ba",
   "metadata": {},
   "outputs": [
    {
     "data": {
      "text/html": [
       "<div>\n",
       "<style scoped>\n",
       "    .dataframe tbody tr th:only-of-type {\n",
       "        vertical-align: middle;\n",
       "    }\n",
       "\n",
       "    .dataframe tbody tr th {\n",
       "        vertical-align: top;\n",
       "    }\n",
       "\n",
       "    .dataframe thead th {\n",
       "        text-align: right;\n",
       "    }\n",
       "</style>\n",
       "<table border=\"1\" class=\"dataframe\">\n",
       "  <thead>\n",
       "    <tr style=\"text-align: right;\">\n",
       "      <th></th>\n",
       "      <th>Name</th>\n",
       "      <th>Team(s)</th>\n",
       "      <th>Matches</th>\n",
       "      <th>Runs</th>\n",
       "      <th>Bat Avg</th>\n",
       "      <th>Wickets</th>\n",
       "      <th>Bowl Avg</th>\n",
       "    </tr>\n",
       "  </thead>\n",
       "  <tbody>\n",
       "    <tr>\n",
       "      <th>0</th>\n",
       "      <td>V R Aaron</td>\n",
       "      <td>DDV, RCB, KXI, RRO, GTI</td>\n",
       "      <td>52</td>\n",
       "      <td>50</td>\n",
       "      <td>10.00</td>\n",
       "      <td>44</td>\n",
       "      <td>33.66</td>\n",
       "    </tr>\n",
       "    <tr>\n",
       "      <th>1</th>\n",
       "      <td>K J Abbott</td>\n",
       "      <td>KXI</td>\n",
       "      <td>5</td>\n",
       "      <td>13</td>\n",
       "      <td>13.00</td>\n",
       "      <td>2</td>\n",
       "      <td>88.50</td>\n",
       "    </tr>\n",
       "    <tr>\n",
       "      <th>2</th>\n",
       "      <td>S A Abbott</td>\n",
       "      <td>RCB, SUN</td>\n",
       "      <td>3</td>\n",
       "      <td>22</td>\n",
       "      <td>7.33</td>\n",
       "      <td>1</td>\n",
       "      <td>104.00</td>\n",
       "    </tr>\n",
       "    <tr>\n",
       "      <th>3</th>\n",
       "      <td>Abdul Samad</td>\n",
       "      <td>SUN</td>\n",
       "      <td>25</td>\n",
       "      <td>226</td>\n",
       "      <td>14.13</td>\n",
       "      <td>2</td>\n",
       "      <td>56.50</td>\n",
       "    </tr>\n",
       "    <tr>\n",
       "      <th>4</th>\n",
       "      <td>Y A Abdulla</td>\n",
       "      <td>KXI</td>\n",
       "      <td>11</td>\n",
       "      <td>0</td>\n",
       "      <td>NaN</td>\n",
       "      <td>15</td>\n",
       "      <td>20.47</td>\n",
       "    </tr>\n",
       "    <tr>\n",
       "      <th>...</th>\n",
       "      <td>...</td>\n",
       "      <td>...</td>\n",
       "      <td>...</td>\n",
       "      <td>...</td>\n",
       "      <td>...</td>\n",
       "      <td>...</td>\n",
       "      <td>...</td>\n",
       "    </tr>\n",
       "    <tr>\n",
       "      <th>652</th>\n",
       "      <td>Younis Khan</td>\n",
       "      <td>RRO</td>\n",
       "      <td>1</td>\n",
       "      <td>3</td>\n",
       "      <td>3.00</td>\n",
       "      <td>0</td>\n",
       "      <td>NaN</td>\n",
       "    </tr>\n",
       "    <tr>\n",
       "      <th>653</th>\n",
       "      <td>Yuvraj Singh</td>\n",
       "      <td>KXI, PWI, RCB, DDV, SUN, MIN</td>\n",
       "      <td>132</td>\n",
       "      <td>2750</td>\n",
       "      <td>24.77</td>\n",
       "      <td>36</td>\n",
       "      <td>29.92</td>\n",
       "    </tr>\n",
       "    <tr>\n",
       "      <th>654</th>\n",
       "      <td>A Zampa</td>\n",
       "      <td>RPS, RCB</td>\n",
       "      <td>14</td>\n",
       "      <td>5</td>\n",
       "      <td>2.50</td>\n",
       "      <td>21</td>\n",
       "      <td>17.62</td>\n",
       "    </tr>\n",
       "    <tr>\n",
       "      <th>655</th>\n",
       "      <td>V H  Zol</td>\n",
       "      <td>RCB</td>\n",
       "      <td>3</td>\n",
       "      <td>29</td>\n",
       "      <td>14.50</td>\n",
       "      <td>0</td>\n",
       "      <td>NaN</td>\n",
       "    </tr>\n",
       "    <tr>\n",
       "      <th>656</th>\n",
       "      <td>D N T Zoysa</td>\n",
       "      <td>DCH</td>\n",
       "      <td>3</td>\n",
       "      <td>11</td>\n",
       "      <td>11.00</td>\n",
       "      <td>2</td>\n",
       "      <td>49.50</td>\n",
       "    </tr>\n",
       "  </tbody>\n",
       "</table>\n",
       "<p>657 rows × 7 columns</p>\n",
       "</div>"
      ],
      "text/plain": [
       "             Name                       Team(s)  Matches  Runs  Bat Avg  \\\n",
       "0       V R Aaron       DDV, RCB, KXI, RRO, GTI       52    50    10.00   \n",
       "1      K J Abbott                           KXI        5    13    13.00   \n",
       "2      S A Abbott                      RCB, SUN        3    22     7.33   \n",
       "3     Abdul Samad                           SUN       25   226    14.13   \n",
       "4     Y A Abdulla                           KXI       11     0      NaN   \n",
       "..            ...                           ...      ...   ...      ...   \n",
       "652   Younis Khan                           RRO        1     3     3.00   \n",
       "653  Yuvraj Singh  KXI, PWI, RCB, DDV, SUN, MIN      132  2750    24.77   \n",
       "654       A Zampa                      RPS, RCB       14     5     2.50   \n",
       "655      V H  Zol                           RCB        3    29    14.50   \n",
       "656   D N T Zoysa                           DCH        3    11    11.00   \n",
       "\n",
       "     Wickets  Bowl Avg  \n",
       "0         44     33.66  \n",
       "1          2     88.50  \n",
       "2          1    104.00  \n",
       "3          2     56.50  \n",
       "4         15     20.47  \n",
       "..       ...       ...  \n",
       "652        0       NaN  \n",
       "653       36     29.92  \n",
       "654       21     17.62  \n",
       "655        0       NaN  \n",
       "656        2     49.50  \n",
       "\n",
       "[657 rows x 7 columns]"
      ]
     },
     "execution_count": 16,
     "metadata": {},
     "output_type": "execute_result"
    }
   ],
   "source": [
    "df1.to_csv(\"C:\\\\Users\\\\Ganesh Ramu\\\\Desktop\\\\player.csv\",index=False)\n",
    "df2=pd.read_csv(\"C:\\\\Users\\\\Ganesh Ramu\\\\Desktop\\\\player.csv\")\n",
    "df2"
   ]
  },
  {
   "cell_type": "markdown",
   "id": "dd147ad1",
   "metadata": {},
   "source": [
    "### data cleaning"
   ]
  },
  {
   "cell_type": "code",
   "execution_count": 14,
   "id": "933c7815",
   "metadata": {},
   "outputs": [
    {
     "data": {
      "text/html": [
       "<div>\n",
       "<style scoped>\n",
       "    .dataframe tbody tr th:only-of-type {\n",
       "        vertical-align: middle;\n",
       "    }\n",
       "\n",
       "    .dataframe tbody tr th {\n",
       "        vertical-align: top;\n",
       "    }\n",
       "\n",
       "    .dataframe thead th {\n",
       "        text-align: right;\n",
       "    }\n",
       "</style>\n",
       "<table border=\"1\" class=\"dataframe\">\n",
       "  <thead>\n",
       "    <tr style=\"text-align: right;\">\n",
       "      <th></th>\n",
       "      <th>Name</th>\n",
       "      <th>Team(s)</th>\n",
       "      <th>Matches</th>\n",
       "      <th>Runs</th>\n",
       "      <th>Bat Avg</th>\n",
       "      <th>Wickets</th>\n",
       "      <th>Bowl Avg</th>\n",
       "    </tr>\n",
       "  </thead>\n",
       "  <tbody>\n",
       "    <tr>\n",
       "      <th>1</th>\n",
       "      <td>V R Aaron</td>\n",
       "      <td>DDV, RCB, KXI, RRO, GTI</td>\n",
       "      <td>52</td>\n",
       "      <td>50</td>\n",
       "      <td>10.00</td>\n",
       "      <td>44</td>\n",
       "      <td>33.66</td>\n",
       "    </tr>\n",
       "    <tr>\n",
       "      <th>2</th>\n",
       "      <td>K J Abbott</td>\n",
       "      <td>KXI</td>\n",
       "      <td>5</td>\n",
       "      <td>13</td>\n",
       "      <td>13.00</td>\n",
       "      <td>2</td>\n",
       "      <td>88.50</td>\n",
       "    </tr>\n",
       "    <tr>\n",
       "      <th>3</th>\n",
       "      <td>S A Abbott</td>\n",
       "      <td>RCB, SUN</td>\n",
       "      <td>3</td>\n",
       "      <td>22</td>\n",
       "      <td>7.33</td>\n",
       "      <td>1</td>\n",
       "      <td>104.00</td>\n",
       "    </tr>\n",
       "    <tr>\n",
       "      <th>4</th>\n",
       "      <td>Abdul Samad</td>\n",
       "      <td>SUN</td>\n",
       "      <td>25</td>\n",
       "      <td>226</td>\n",
       "      <td>14.13</td>\n",
       "      <td>2</td>\n",
       "      <td>56.50</td>\n",
       "    </tr>\n",
       "    <tr>\n",
       "      <th>5</th>\n",
       "      <td>Y A Abdulla</td>\n",
       "      <td>KXI</td>\n",
       "      <td>11</td>\n",
       "      <td>0</td>\n",
       "      <td>NaN</td>\n",
       "      <td>15</td>\n",
       "      <td>20.47</td>\n",
       "    </tr>\n",
       "    <tr>\n",
       "      <th>...</th>\n",
       "      <td>...</td>\n",
       "      <td>...</td>\n",
       "      <td>...</td>\n",
       "      <td>...</td>\n",
       "      <td>...</td>\n",
       "      <td>...</td>\n",
       "      <td>...</td>\n",
       "    </tr>\n",
       "    <tr>\n",
       "      <th>653</th>\n",
       "      <td>Younis Khan</td>\n",
       "      <td>RRO</td>\n",
       "      <td>1</td>\n",
       "      <td>3</td>\n",
       "      <td>3.00</td>\n",
       "      <td>0</td>\n",
       "      <td>NaN</td>\n",
       "    </tr>\n",
       "    <tr>\n",
       "      <th>654</th>\n",
       "      <td>Yuvraj Singh</td>\n",
       "      <td>KXI, PWI, RCB, DDV, SUN, MIN</td>\n",
       "      <td>132</td>\n",
       "      <td>2750</td>\n",
       "      <td>24.77</td>\n",
       "      <td>36</td>\n",
       "      <td>29.92</td>\n",
       "    </tr>\n",
       "    <tr>\n",
       "      <th>655</th>\n",
       "      <td>A Zampa</td>\n",
       "      <td>RPS, RCB</td>\n",
       "      <td>14</td>\n",
       "      <td>5</td>\n",
       "      <td>2.50</td>\n",
       "      <td>21</td>\n",
       "      <td>17.62</td>\n",
       "    </tr>\n",
       "    <tr>\n",
       "      <th>656</th>\n",
       "      <td>V H  Zol</td>\n",
       "      <td>RCB</td>\n",
       "      <td>3</td>\n",
       "      <td>29</td>\n",
       "      <td>14.50</td>\n",
       "      <td>0</td>\n",
       "      <td>NaN</td>\n",
       "    </tr>\n",
       "    <tr>\n",
       "      <th>657</th>\n",
       "      <td>D N T Zoysa</td>\n",
       "      <td>DCH</td>\n",
       "      <td>3</td>\n",
       "      <td>11</td>\n",
       "      <td>11.00</td>\n",
       "      <td>2</td>\n",
       "      <td>49.50</td>\n",
       "    </tr>\n",
       "  </tbody>\n",
       "</table>\n",
       "<p>657 rows × 7 columns</p>\n",
       "</div>"
      ],
      "text/plain": [
       "             Name                       Team(s) Matches  Runs Bat Avg Wickets  \\\n",
       "1       V R Aaron       DDV, RCB, KXI, RRO, GTI      52    50   10.00      44   \n",
       "2      K J Abbott                           KXI       5    13   13.00       2   \n",
       "3      S A Abbott                      RCB, SUN       3    22    7.33       1   \n",
       "4     Abdul Samad                           SUN      25   226   14.13       2   \n",
       "5     Y A Abdulla                           KXI      11     0     NaN      15   \n",
       "..            ...                           ...     ...   ...     ...     ...   \n",
       "653   Younis Khan                           RRO       1     3    3.00       0   \n",
       "654  Yuvraj Singh  KXI, PWI, RCB, DDV, SUN, MIN     132  2750   24.77      36   \n",
       "655       A Zampa                      RPS, RCB      14     5    2.50      21   \n",
       "656      V H  Zol                           RCB       3    29   14.50       0   \n",
       "657   D N T Zoysa                           DCH       3    11   11.00       2   \n",
       "\n",
       "    Bowl Avg  \n",
       "1      33.66  \n",
       "2      88.50  \n",
       "3     104.00  \n",
       "4      56.50  \n",
       "5      20.47  \n",
       "..       ...  \n",
       "653      NaN  \n",
       "654    29.92  \n",
       "655    17.62  \n",
       "656      NaN  \n",
       "657    49.50  \n",
       "\n",
       "[657 rows x 7 columns]"
      ]
     },
     "execution_count": 14,
     "metadata": {},
     "output_type": "execute_result"
    }
   ],
   "source": [
    "df1=df1.replace('',np.nan,regex=True)\n",
    "df1"
   ]
  },
  {
   "cell_type": "code",
   "execution_count": 15,
   "id": "61408ad9",
   "metadata": {},
   "outputs": [
    {
     "data": {
      "text/html": [
       "<div>\n",
       "<style scoped>\n",
       "    .dataframe tbody tr th:only-of-type {\n",
       "        vertical-align: middle;\n",
       "    }\n",
       "\n",
       "    .dataframe tbody tr th {\n",
       "        vertical-align: top;\n",
       "    }\n",
       "\n",
       "    .dataframe thead th {\n",
       "        text-align: right;\n",
       "    }\n",
       "</style>\n",
       "<table border=\"1\" class=\"dataframe\">\n",
       "  <thead>\n",
       "    <tr style=\"text-align: right;\">\n",
       "      <th></th>\n",
       "      <th>Name</th>\n",
       "      <th>Team(s)</th>\n",
       "      <th>Matches</th>\n",
       "      <th>Runs</th>\n",
       "      <th>Bat Avg</th>\n",
       "      <th>Wickets</th>\n",
       "      <th>Bowl Avg</th>\n",
       "    </tr>\n",
       "  </thead>\n",
       "  <tbody>\n",
       "    <tr>\n",
       "      <th>0</th>\n",
       "      <td>V R Aaron</td>\n",
       "      <td>DDV, RCB, KXI, RRO, GTI</td>\n",
       "      <td>52</td>\n",
       "      <td>50</td>\n",
       "      <td>10.00</td>\n",
       "      <td>44</td>\n",
       "      <td>33.66</td>\n",
       "    </tr>\n",
       "    <tr>\n",
       "      <th>1</th>\n",
       "      <td>K J Abbott</td>\n",
       "      <td>KXI</td>\n",
       "      <td>5</td>\n",
       "      <td>13</td>\n",
       "      <td>13.00</td>\n",
       "      <td>2</td>\n",
       "      <td>88.50</td>\n",
       "    </tr>\n",
       "    <tr>\n",
       "      <th>2</th>\n",
       "      <td>S A Abbott</td>\n",
       "      <td>RCB, SUN</td>\n",
       "      <td>3</td>\n",
       "      <td>22</td>\n",
       "      <td>7.33</td>\n",
       "      <td>1</td>\n",
       "      <td>104.00</td>\n",
       "    </tr>\n",
       "    <tr>\n",
       "      <th>3</th>\n",
       "      <td>Abdul Samad</td>\n",
       "      <td>SUN</td>\n",
       "      <td>25</td>\n",
       "      <td>226</td>\n",
       "      <td>14.13</td>\n",
       "      <td>2</td>\n",
       "      <td>56.50</td>\n",
       "    </tr>\n",
       "    <tr>\n",
       "      <th>4</th>\n",
       "      <td>Y A Abdulla</td>\n",
       "      <td>KXI</td>\n",
       "      <td>11</td>\n",
       "      <td>0</td>\n",
       "      <td>NaN</td>\n",
       "      <td>15</td>\n",
       "      <td>20.47</td>\n",
       "    </tr>\n",
       "    <tr>\n",
       "      <th>...</th>\n",
       "      <td>...</td>\n",
       "      <td>...</td>\n",
       "      <td>...</td>\n",
       "      <td>...</td>\n",
       "      <td>...</td>\n",
       "      <td>...</td>\n",
       "      <td>...</td>\n",
       "    </tr>\n",
       "    <tr>\n",
       "      <th>652</th>\n",
       "      <td>Younis Khan</td>\n",
       "      <td>RRO</td>\n",
       "      <td>1</td>\n",
       "      <td>3</td>\n",
       "      <td>3.00</td>\n",
       "      <td>0</td>\n",
       "      <td>NaN</td>\n",
       "    </tr>\n",
       "    <tr>\n",
       "      <th>653</th>\n",
       "      <td>Yuvraj Singh</td>\n",
       "      <td>KXI, PWI, RCB, DDV, SUN, MIN</td>\n",
       "      <td>132</td>\n",
       "      <td>2750</td>\n",
       "      <td>24.77</td>\n",
       "      <td>36</td>\n",
       "      <td>29.92</td>\n",
       "    </tr>\n",
       "    <tr>\n",
       "      <th>654</th>\n",
       "      <td>A Zampa</td>\n",
       "      <td>RPS, RCB</td>\n",
       "      <td>14</td>\n",
       "      <td>5</td>\n",
       "      <td>2.50</td>\n",
       "      <td>21</td>\n",
       "      <td>17.62</td>\n",
       "    </tr>\n",
       "    <tr>\n",
       "      <th>655</th>\n",
       "      <td>V H  Zol</td>\n",
       "      <td>RCB</td>\n",
       "      <td>3</td>\n",
       "      <td>29</td>\n",
       "      <td>14.50</td>\n",
       "      <td>0</td>\n",
       "      <td>NaN</td>\n",
       "    </tr>\n",
       "    <tr>\n",
       "      <th>656</th>\n",
       "      <td>D N T Zoysa</td>\n",
       "      <td>DCH</td>\n",
       "      <td>3</td>\n",
       "      <td>11</td>\n",
       "      <td>11.00</td>\n",
       "      <td>2</td>\n",
       "      <td>49.50</td>\n",
       "    </tr>\n",
       "  </tbody>\n",
       "</table>\n",
       "<p>657 rows × 7 columns</p>\n",
       "</div>"
      ],
      "text/plain": [
       "             Name                       Team(s)  Matches  Runs  Bat Avg  \\\n",
       "0       V R Aaron       DDV, RCB, KXI, RRO, GTI       52    50    10.00   \n",
       "1      K J Abbott                           KXI        5    13    13.00   \n",
       "2      S A Abbott                      RCB, SUN        3    22     7.33   \n",
       "3     Abdul Samad                           SUN       25   226    14.13   \n",
       "4     Y A Abdulla                           KXI       11     0      NaN   \n",
       "..            ...                           ...      ...   ...      ...   \n",
       "652   Younis Khan                           RRO        1     3     3.00   \n",
       "653  Yuvraj Singh  KXI, PWI, RCB, DDV, SUN, MIN      132  2750    24.77   \n",
       "654       A Zampa                      RPS, RCB       14     5     2.50   \n",
       "655      V H  Zol                           RCB        3    29    14.50   \n",
       "656   D N T Zoysa                           DCH        3    11    11.00   \n",
       "\n",
       "     Wickets  Bowl Avg  \n",
       "0         44     33.66  \n",
       "1          2     88.50  \n",
       "2          1    104.00  \n",
       "3          2     56.50  \n",
       "4         15     20.47  \n",
       "..       ...       ...  \n",
       "652        0       NaN  \n",
       "653       36     29.92  \n",
       "654       21     17.62  \n",
       "655        0       NaN  \n",
       "656        2     49.50  \n",
       "\n",
       "[657 rows x 7 columns]"
      ]
     },
     "execution_count": 15,
     "metadata": {},
     "output_type": "execute_result"
    }
   ],
   "source": [
    "df2=pd.read_csv(\"C:\\\\Users\\\\Ganesh Ramu\\\\Desktop\\\\player.csv\")\n",
    "df2"
   ]
  },
  {
   "cell_type": "code",
   "execution_count": 14,
   "id": "dc0361b9",
   "metadata": {},
   "outputs": [
    {
     "data": {
      "text/html": [
       "<div>\n",
       "<style scoped>\n",
       "    .dataframe tbody tr th:only-of-type {\n",
       "        vertical-align: middle;\n",
       "    }\n",
       "\n",
       "    .dataframe tbody tr th {\n",
       "        vertical-align: top;\n",
       "    }\n",
       "\n",
       "    .dataframe thead th {\n",
       "        text-align: right;\n",
       "    }\n",
       "</style>\n",
       "<table border=\"1\" class=\"dataframe\">\n",
       "  <thead>\n",
       "    <tr style=\"text-align: right;\">\n",
       "      <th></th>\n",
       "      <th>Name</th>\n",
       "      <th>Teams</th>\n",
       "      <th>Matches</th>\n",
       "      <th>Runs</th>\n",
       "      <th>Bat Avg</th>\n",
       "      <th>Wickets</th>\n",
       "      <th>Bowl Avg</th>\n",
       "    </tr>\n",
       "  </thead>\n",
       "  <tbody>\n",
       "    <tr>\n",
       "      <th>0</th>\n",
       "      <td>V R Aaron</td>\n",
       "      <td>DDV, RCB, KXI, RRO, GTI</td>\n",
       "      <td>52</td>\n",
       "      <td>50</td>\n",
       "      <td>10.00</td>\n",
       "      <td>44</td>\n",
       "      <td>33.66</td>\n",
       "    </tr>\n",
       "    <tr>\n",
       "      <th>1</th>\n",
       "      <td>K J Abbott</td>\n",
       "      <td>KXI</td>\n",
       "      <td>5</td>\n",
       "      <td>13</td>\n",
       "      <td>13.00</td>\n",
       "      <td>2</td>\n",
       "      <td>88.50</td>\n",
       "    </tr>\n",
       "    <tr>\n",
       "      <th>2</th>\n",
       "      <td>S A Abbott</td>\n",
       "      <td>RCB, SUN</td>\n",
       "      <td>3</td>\n",
       "      <td>22</td>\n",
       "      <td>7.33</td>\n",
       "      <td>1</td>\n",
       "      <td>104.00</td>\n",
       "    </tr>\n",
       "    <tr>\n",
       "      <th>3</th>\n",
       "      <td>Abdul Samad</td>\n",
       "      <td>SUN</td>\n",
       "      <td>25</td>\n",
       "      <td>226</td>\n",
       "      <td>14.13</td>\n",
       "      <td>2</td>\n",
       "      <td>56.50</td>\n",
       "    </tr>\n",
       "    <tr>\n",
       "      <th>4</th>\n",
       "      <td>Y A Abdulla</td>\n",
       "      <td>KXI</td>\n",
       "      <td>11</td>\n",
       "      <td>0</td>\n",
       "      <td>NaN</td>\n",
       "      <td>15</td>\n",
       "      <td>20.47</td>\n",
       "    </tr>\n",
       "    <tr>\n",
       "      <th>...</th>\n",
       "      <td>...</td>\n",
       "      <td>...</td>\n",
       "      <td>...</td>\n",
       "      <td>...</td>\n",
       "      <td>...</td>\n",
       "      <td>...</td>\n",
       "      <td>...</td>\n",
       "    </tr>\n",
       "    <tr>\n",
       "      <th>652</th>\n",
       "      <td>Younis Khan</td>\n",
       "      <td>RRO</td>\n",
       "      <td>1</td>\n",
       "      <td>3</td>\n",
       "      <td>3.00</td>\n",
       "      <td>0</td>\n",
       "      <td>NaN</td>\n",
       "    </tr>\n",
       "    <tr>\n",
       "      <th>653</th>\n",
       "      <td>Yuvraj Singh</td>\n",
       "      <td>KXI, PWI, RCB, DDV, SUN, MIN</td>\n",
       "      <td>132</td>\n",
       "      <td>2750</td>\n",
       "      <td>24.77</td>\n",
       "      <td>36</td>\n",
       "      <td>29.92</td>\n",
       "    </tr>\n",
       "    <tr>\n",
       "      <th>654</th>\n",
       "      <td>A Zampa</td>\n",
       "      <td>RPS, RCB</td>\n",
       "      <td>14</td>\n",
       "      <td>5</td>\n",
       "      <td>2.50</td>\n",
       "      <td>21</td>\n",
       "      <td>17.62</td>\n",
       "    </tr>\n",
       "    <tr>\n",
       "      <th>655</th>\n",
       "      <td>V H  Zol</td>\n",
       "      <td>RCB</td>\n",
       "      <td>3</td>\n",
       "      <td>29</td>\n",
       "      <td>14.50</td>\n",
       "      <td>0</td>\n",
       "      <td>NaN</td>\n",
       "    </tr>\n",
       "    <tr>\n",
       "      <th>656</th>\n",
       "      <td>D N T Zoysa</td>\n",
       "      <td>DCH</td>\n",
       "      <td>3</td>\n",
       "      <td>11</td>\n",
       "      <td>11.00</td>\n",
       "      <td>2</td>\n",
       "      <td>49.50</td>\n",
       "    </tr>\n",
       "  </tbody>\n",
       "</table>\n",
       "<p>657 rows × 7 columns</p>\n",
       "</div>"
      ],
      "text/plain": [
       "             Name                         Teams  Matches  Runs  Bat Avg  \\\n",
       "0       V R Aaron       DDV, RCB, KXI, RRO, GTI       52    50    10.00   \n",
       "1      K J Abbott                           KXI        5    13    13.00   \n",
       "2      S A Abbott                      RCB, SUN        3    22     7.33   \n",
       "3     Abdul Samad                           SUN       25   226    14.13   \n",
       "4     Y A Abdulla                           KXI       11     0      NaN   \n",
       "..            ...                           ...      ...   ...      ...   \n",
       "652   Younis Khan                           RRO        1     3     3.00   \n",
       "653  Yuvraj Singh  KXI, PWI, RCB, DDV, SUN, MIN      132  2750    24.77   \n",
       "654       A Zampa                      RPS, RCB       14     5     2.50   \n",
       "655      V H  Zol                           RCB        3    29    14.50   \n",
       "656   D N T Zoysa                           DCH        3    11    11.00   \n",
       "\n",
       "     Wickets  Bowl Avg  \n",
       "0         44     33.66  \n",
       "1          2     88.50  \n",
       "2          1    104.00  \n",
       "3          2     56.50  \n",
       "4         15     20.47  \n",
       "..       ...       ...  \n",
       "652        0       NaN  \n",
       "653       36     29.92  \n",
       "654       21     17.62  \n",
       "655        0       NaN  \n",
       "656        2     49.50  \n",
       "\n",
       "[657 rows x 7 columns]"
      ]
     },
     "execution_count": 14,
     "metadata": {},
     "output_type": "execute_result"
    }
   ],
   "source": [
    "df2. rename(columns = {'Team(s)':'Teams'}, inplace = True)\n",
    "df2"
   ]
  },
  {
   "cell_type": "code",
   "execution_count": 15,
   "id": "6f6fbd6e",
   "metadata": {
    "scrolled": false
   },
   "outputs": [
    {
     "data": {
      "text/html": [
       "<div>\n",
       "<style scoped>\n",
       "    .dataframe tbody tr th:only-of-type {\n",
       "        vertical-align: middle;\n",
       "    }\n",
       "\n",
       "    .dataframe tbody tr th {\n",
       "        vertical-align: top;\n",
       "    }\n",
       "\n",
       "    .dataframe thead th {\n",
       "        text-align: right;\n",
       "    }\n",
       "</style>\n",
       "<table border=\"1\" class=\"dataframe\">\n",
       "  <thead>\n",
       "    <tr style=\"text-align: right;\">\n",
       "      <th></th>\n",
       "      <th>Name</th>\n",
       "      <th>Teams</th>\n",
       "      <th>Matches</th>\n",
       "      <th>Runs</th>\n",
       "      <th>Bat Avg</th>\n",
       "      <th>Wickets</th>\n",
       "      <th>Bowl Avg</th>\n",
       "      <th>team_count</th>\n",
       "    </tr>\n",
       "  </thead>\n",
       "  <tbody>\n",
       "    <tr>\n",
       "      <th>0</th>\n",
       "      <td>V R Aaron</td>\n",
       "      <td>DDV, RCB, KXI, RRO, GTI</td>\n",
       "      <td>52</td>\n",
       "      <td>50</td>\n",
       "      <td>10.00</td>\n",
       "      <td>44</td>\n",
       "      <td>33.66</td>\n",
       "      <td>5</td>\n",
       "    </tr>\n",
       "    <tr>\n",
       "      <th>1</th>\n",
       "      <td>K J Abbott</td>\n",
       "      <td>KXI</td>\n",
       "      <td>5</td>\n",
       "      <td>13</td>\n",
       "      <td>13.00</td>\n",
       "      <td>2</td>\n",
       "      <td>88.50</td>\n",
       "      <td>1</td>\n",
       "    </tr>\n",
       "    <tr>\n",
       "      <th>2</th>\n",
       "      <td>S A Abbott</td>\n",
       "      <td>RCB, SUN</td>\n",
       "      <td>3</td>\n",
       "      <td>22</td>\n",
       "      <td>7.33</td>\n",
       "      <td>1</td>\n",
       "      <td>104.00</td>\n",
       "      <td>2</td>\n",
       "    </tr>\n",
       "    <tr>\n",
       "      <th>3</th>\n",
       "      <td>Abdul Samad</td>\n",
       "      <td>SUN</td>\n",
       "      <td>25</td>\n",
       "      <td>226</td>\n",
       "      <td>14.13</td>\n",
       "      <td>2</td>\n",
       "      <td>56.50</td>\n",
       "      <td>1</td>\n",
       "    </tr>\n",
       "    <tr>\n",
       "      <th>4</th>\n",
       "      <td>Y A Abdulla</td>\n",
       "      <td>KXI</td>\n",
       "      <td>11</td>\n",
       "      <td>0</td>\n",
       "      <td>NaN</td>\n",
       "      <td>15</td>\n",
       "      <td>20.47</td>\n",
       "      <td>1</td>\n",
       "    </tr>\n",
       "    <tr>\n",
       "      <th>...</th>\n",
       "      <td>...</td>\n",
       "      <td>...</td>\n",
       "      <td>...</td>\n",
       "      <td>...</td>\n",
       "      <td>...</td>\n",
       "      <td>...</td>\n",
       "      <td>...</td>\n",
       "      <td>...</td>\n",
       "    </tr>\n",
       "    <tr>\n",
       "      <th>652</th>\n",
       "      <td>Younis Khan</td>\n",
       "      <td>RRO</td>\n",
       "      <td>1</td>\n",
       "      <td>3</td>\n",
       "      <td>3.00</td>\n",
       "      <td>0</td>\n",
       "      <td>NaN</td>\n",
       "      <td>1</td>\n",
       "    </tr>\n",
       "    <tr>\n",
       "      <th>653</th>\n",
       "      <td>Yuvraj Singh</td>\n",
       "      <td>KXI, PWI, RCB, DDV, SUN, MIN</td>\n",
       "      <td>132</td>\n",
       "      <td>2750</td>\n",
       "      <td>24.77</td>\n",
       "      <td>36</td>\n",
       "      <td>29.92</td>\n",
       "      <td>6</td>\n",
       "    </tr>\n",
       "    <tr>\n",
       "      <th>654</th>\n",
       "      <td>A Zampa</td>\n",
       "      <td>RPS, RCB</td>\n",
       "      <td>14</td>\n",
       "      <td>5</td>\n",
       "      <td>2.50</td>\n",
       "      <td>21</td>\n",
       "      <td>17.62</td>\n",
       "      <td>2</td>\n",
       "    </tr>\n",
       "    <tr>\n",
       "      <th>655</th>\n",
       "      <td>V H  Zol</td>\n",
       "      <td>RCB</td>\n",
       "      <td>3</td>\n",
       "      <td>29</td>\n",
       "      <td>14.50</td>\n",
       "      <td>0</td>\n",
       "      <td>NaN</td>\n",
       "      <td>1</td>\n",
       "    </tr>\n",
       "    <tr>\n",
       "      <th>656</th>\n",
       "      <td>D N T Zoysa</td>\n",
       "      <td>DCH</td>\n",
       "      <td>3</td>\n",
       "      <td>11</td>\n",
       "      <td>11.00</td>\n",
       "      <td>2</td>\n",
       "      <td>49.50</td>\n",
       "      <td>1</td>\n",
       "    </tr>\n",
       "  </tbody>\n",
       "</table>\n",
       "<p>657 rows × 8 columns</p>\n",
       "</div>"
      ],
      "text/plain": [
       "             Name                         Teams  Matches  Runs  Bat Avg  \\\n",
       "0       V R Aaron       DDV, RCB, KXI, RRO, GTI       52    50    10.00   \n",
       "1      K J Abbott                           KXI        5    13    13.00   \n",
       "2      S A Abbott                      RCB, SUN        3    22     7.33   \n",
       "3     Abdul Samad                           SUN       25   226    14.13   \n",
       "4     Y A Abdulla                           KXI       11     0      NaN   \n",
       "..            ...                           ...      ...   ...      ...   \n",
       "652   Younis Khan                           RRO        1     3     3.00   \n",
       "653  Yuvraj Singh  KXI, PWI, RCB, DDV, SUN, MIN      132  2750    24.77   \n",
       "654       A Zampa                      RPS, RCB       14     5     2.50   \n",
       "655      V H  Zol                           RCB        3    29    14.50   \n",
       "656   D N T Zoysa                           DCH        3    11    11.00   \n",
       "\n",
       "     Wickets  Bowl Avg  team_count  \n",
       "0         44     33.66           5  \n",
       "1          2     88.50           1  \n",
       "2          1    104.00           2  \n",
       "3          2     56.50           1  \n",
       "4         15     20.47           1  \n",
       "..       ...       ...         ...  \n",
       "652        0       NaN           1  \n",
       "653       36     29.92           6  \n",
       "654       21     17.62           2  \n",
       "655        0       NaN           1  \n",
       "656        2     49.50           1  \n",
       "\n",
       "[657 rows x 8 columns]"
      ]
     },
     "execution_count": 15,
     "metadata": {},
     "output_type": "execute_result"
    }
   ],
   "source": [
    "Team=df2['Teams'].str.split(',',n=0,expand=True)\n",
    "Teams_count=[]\n",
    "Team.replace(\"\", np.nan,regex=True)\n",
    "Team.columns =['A','B','C','D','E','F','G','H','I']\n",
    "f=Team.count(axis=1)\n",
    "c=pd.DataFrame(f,columns=['team_count'])\n",
    "df2['team_count']=c.values\n",
    "df2"
   ]
  },
  {
   "cell_type": "code",
   "execution_count": 54,
   "id": "c93efb05",
   "metadata": {},
   "outputs": [],
   "source": [
    "j =df2.head(200)"
   ]
  },
  {
   "cell_type": "code",
   "execution_count": 16,
   "id": "e1b0f09c",
   "metadata": {},
   "outputs": [
    {
     "data": {
      "image/png": "[encoded data removed]",
      "text/plain": [
       "<Figure size 360x360 with 1 Axes>"
      ]
     },
     "metadata": {
      "needs_background": "light"
     },
     "output_type": "display_data"
    }
   ],
   "source": [
    "df2_sort_team_count=df2.sort_values(\"team_count\",ascending=False)\n",
    "o=df2.pivot_table(columns=['team_count'],aggfunc='size')\n",
    "o\n",
    "plt.figure(figsize=(5,5))\n",
    "sns.countplot( x ='team_count', data = df2)\n",
    "plt.xlabel\n",
    "plt.xticks(rotation=0)\n",
    "plt.show()"
   ]
  },
  {
   "cell_type": "code",
   "execution_count": 17,
   "id": "2f28a014",
   "metadata": {},
   "outputs": [
    {
     "data": {
      "image/png": "[encoded data removed]",
      "text/plain": [
       "<Figure size 360x360 with 1 Axes>"
      ]
     },
     "metadata": {
      "needs_background": "light"
     },
     "output_type": "display_data"
    }
   ],
   "source": [
    "d3=df2.sort_values('team_count',ascending=False).head(10)\n",
    "plt.figure(figsize=(5,5))\n",
    "sns.barplot( x ='Name',y='team_count', data = d3)\n",
    "plt.xticks(rotation=90)\n",
    "plt.title(\"\")\n",
    "plt.show()"
   ]
  },
  {
   "cell_type": "markdown",
   "id": "8d2ebc16",
   "metadata": {},
   "source": [
    "### Find the who is played different teams most\n",
    "Finch is played 9 different teams "
   ]
  },
  {
   "cell_type": "code",
   "execution_count": null,
   "id": "7e94b4e7",
   "metadata": {},
   "outputs": [],
   "source": []
  },
  {
   "cell_type": "code",
   "execution_count": 18,
   "id": "ec2fce77",
   "metadata": {},
   "outputs": [
    {
     "data": {
      "text/plain": [
       "'D A Warner'"
      ]
     },
     "execution_count": 18,
     "metadata": {},
     "output_type": "execute_result"
    }
   ],
   "source": [
    "#finding the best batsman.\n",
    "df2=df2.assign(Best_Batsman=lambda x: (x['Matches']>100)&(x['Runs']>5500)&(x['Bat Avg']>40))\n",
    "\n",
    "df2.groupby(['Best_Batsman']).size().reset_index(name='counts')#for find the satisfied  count of if condition \n",
    "\n",
    "df2['Best_Batsman'].sort_values(ascending=False)#used find the index of true \n",
    "\n",
    "Best_Batsman=df2['Name'][634]\n",
    "\n",
    "Best_Batsman"
   ]
  },
  {
   "cell_type": "markdown",
   "id": "41cd86be",
   "metadata": {},
   "source": [
    "#### repeating same logic to find multiple data"
   ]
  },
  {
   "cell_type": "code",
   "execution_count": 19,
   "id": "21680542",
   "metadata": {},
   "outputs": [
    {
     "data": {
      "text/plain": [
       "'S K Raina'"
      ]
     },
     "execution_count": 19,
     "metadata": {},
     "output_type": "execute_result"
    }
   ],
   "source": [
    "df2=df2.assign(Best_player=lambda x: (x['Matches']>100)&(x['Runs']>25)&(x['Wickets']>15))\n",
    "df2.groupby(['Best_player']).size().reset_index(name='counts')\n",
    "df2['Best_player'].sort_values()\n",
    "Best_player=df2['Name'][444]\n",
    "Best_player"
   ]
  },
  {
   "cell_type": "code",
   "execution_count": 20,
   "id": "1149287f",
   "metadata": {},
   "outputs": [
    {
     "data": {
      "text/plain": [
       "'S L Malinga'"
      ]
     },
     "execution_count": 20,
     "metadata": {},
     "output_type": "execute_result"
    }
   ],
   "source": [
    "df2=df2.assign(Best_bowler=lambda x: (x['Matches']>100)&(x['Bowl Avg']<20)&(x['Wickets']>90))\n",
    "df2.groupby(['Best_bowler']).size().reset_index(name='counts')\n",
    "df2['Best_bowler'].sort_values()\n",
    "Best_bowler=df2['Name'][300]\n",
    "\n",
    "Best_bowler"
   ]
  },
  {
   "cell_type": "code",
   "execution_count": null,
   "id": "da0f507f",
   "metadata": {},
   "outputs": [],
   "source": []
  },
  {
   "cell_type": "code",
   "execution_count": 21,
   "id": "e3028bbc",
   "metadata": {},
   "outputs": [
    {
     "data": {
      "text/html": [
       "<div>\n",
       "<style scoped>\n",
       "    .dataframe tbody tr th:only-of-type {\n",
       "        vertical-align: middle;\n",
       "    }\n",
       "\n",
       "    .dataframe tbody tr th {\n",
       "        vertical-align: top;\n",
       "    }\n",
       "\n",
       "    .dataframe thead th {\n",
       "        text-align: right;\n",
       "    }\n",
       "</style>\n",
       "<table border=\"1\" class=\"dataframe\">\n",
       "  <thead>\n",
       "    <tr style=\"text-align: right;\">\n",
       "      <th></th>\n",
       "      <th>Matches</th>\n",
       "      <th>Runs</th>\n",
       "      <th>Bat Avg</th>\n",
       "      <th>Wickets</th>\n",
       "      <th>Bowl Avg</th>\n",
       "      <th>team_count</th>\n",
       "    </tr>\n",
       "  </thead>\n",
       "  <tbody>\n",
       "    <tr>\n",
       "      <th>count</th>\n",
       "      <td>657.000000</td>\n",
       "      <td>657.000000</td>\n",
       "      <td>574.000000</td>\n",
       "      <td>657.000000</td>\n",
       "      <td>405.000000</td>\n",
       "      <td>657.000000</td>\n",
       "    </tr>\n",
       "    <tr>\n",
       "      <th>mean</th>\n",
       "      <td>31.844749</td>\n",
       "      <td>427.267884</td>\n",
       "      <td>15.925610</td>\n",
       "      <td>15.385084</td>\n",
       "      <td>34.527802</td>\n",
       "      <td>1.896499</td>\n",
       "    </tr>\n",
       "    <tr>\n",
       "      <th>std</th>\n",
       "      <td>42.951940</td>\n",
       "      <td>952.502741</td>\n",
       "      <td>10.532107</td>\n",
       "      <td>29.362941</td>\n",
       "      <td>16.722901</td>\n",
       "      <td>1.195113</td>\n",
       "    </tr>\n",
       "    <tr>\n",
       "      <th>min</th>\n",
       "      <td>1.000000</td>\n",
       "      <td>0.000000</td>\n",
       "      <td>0.000000</td>\n",
       "      <td>0.000000</td>\n",
       "      <td>0.000000</td>\n",
       "      <td>1.000000</td>\n",
       "    </tr>\n",
       "    <tr>\n",
       "      <th>25%</th>\n",
       "      <td>5.000000</td>\n",
       "      <td>9.000000</td>\n",
       "      <td>7.690000</td>\n",
       "      <td>0.000000</td>\n",
       "      <td>25.290000</td>\n",
       "      <td>1.000000</td>\n",
       "    </tr>\n",
       "    <tr>\n",
       "      <th>50%</th>\n",
       "      <td>13.000000</td>\n",
       "      <td>53.000000</td>\n",
       "      <td>14.475000</td>\n",
       "      <td>3.000000</td>\n",
       "      <td>30.700000</td>\n",
       "      <td>1.000000</td>\n",
       "    </tr>\n",
       "    <tr>\n",
       "      <th>75%</th>\n",
       "      <td>41.000000</td>\n",
       "      <td>282.000000</td>\n",
       "      <td>23.000000</td>\n",
       "      <td>14.000000</td>\n",
       "      <td>39.000000</td>\n",
       "      <td>2.000000</td>\n",
       "    </tr>\n",
       "    <tr>\n",
       "      <th>max</th>\n",
       "      <td>234.000000</td>\n",
       "      <td>6624.000000</td>\n",
       "      <td>55.670000</td>\n",
       "      <td>183.000000</td>\n",
       "      <td>136.000000</td>\n",
       "      <td>9.000000</td>\n",
       "    </tr>\n",
       "  </tbody>\n",
       "</table>\n",
       "</div>"
      ],
      "text/plain": [
       "          Matches         Runs     Bat Avg     Wickets    Bowl Avg  team_count\n",
       "count  657.000000   657.000000  574.000000  657.000000  405.000000  657.000000\n",
       "mean    31.844749   427.267884   15.925610   15.385084   34.527802    1.896499\n",
       "std     42.951940   952.502741   10.532107   29.362941   16.722901    1.195113\n",
       "min      1.000000     0.000000    0.000000    0.000000    0.000000    1.000000\n",
       "25%      5.000000     9.000000    7.690000    0.000000   25.290000    1.000000\n",
       "50%     13.000000    53.000000   14.475000    3.000000   30.700000    1.000000\n",
       "75%     41.000000   282.000000   23.000000   14.000000   39.000000    2.000000\n",
       "max    234.000000  6624.000000   55.670000  183.000000  136.000000    9.000000"
      ]
     },
     "execution_count": 21,
     "metadata": {},
     "output_type": "execute_result"
    }
   ],
   "source": [
    "df2.describe()"
   ]
  },
  {
   "cell_type": "code",
   "execution_count": 22,
   "id": "7d37ceed",
   "metadata": {},
   "outputs": [
    {
     "data": {
      "text/plain": [
       "(657, 11)"
      ]
     },
     "execution_count": 22,
     "metadata": {},
     "output_type": "execute_result"
    }
   ],
   "source": [
    "df2.shape\n"
   ]
  },
  {
   "cell_type": "markdown",
   "id": "9df94dd3",
   "metadata": {},
   "source": [
    "# Data visualisation\n",
    "\n"
   ]
  },
  {
   "cell_type": "code",
   "execution_count": 23,
   "id": "25c1c8d2",
   "metadata": {},
   "outputs": [
    {
     "data": {
      "text/html": [
       "<div>\n",
       "<style scoped>\n",
       "    .dataframe tbody tr th:only-of-type {\n",
       "        vertical-align: middle;\n",
       "    }\n",
       "\n",
       "    .dataframe tbody tr th {\n",
       "        vertical-align: top;\n",
       "    }\n",
       "\n",
       "    .dataframe thead th {\n",
       "        text-align: right;\n",
       "    }\n",
       "</style>\n",
       "<table border=\"1\" class=\"dataframe\">\n",
       "  <thead>\n",
       "    <tr style=\"text-align: right;\">\n",
       "      <th></th>\n",
       "      <th>Name</th>\n",
       "      <th>Teams</th>\n",
       "      <th>Matches</th>\n",
       "      <th>Runs</th>\n",
       "      <th>Bat Avg</th>\n",
       "      <th>Wickets</th>\n",
       "      <th>Bowl Avg</th>\n",
       "      <th>team_count</th>\n",
       "      <th>Best_Batsman</th>\n",
       "      <th>Best_player</th>\n",
       "      <th>Best_bowler</th>\n",
       "    </tr>\n",
       "  </thead>\n",
       "  <tbody>\n",
       "    <tr>\n",
       "      <th>134</th>\n",
       "      <td>M S Dhoni</td>\n",
       "      <td>CSK, RPS</td>\n",
       "      <td>234</td>\n",
       "      <td>4978</td>\n",
       "      <td>39.20</td>\n",
       "      <td>0</td>\n",
       "      <td>NaN</td>\n",
       "      <td>2</td>\n",
       "      <td>False</td>\n",
       "      <td>False</td>\n",
       "      <td>False</td>\n",
       "    </tr>\n",
       "    <tr>\n",
       "      <th>249</th>\n",
       "      <td>K D Karthik</td>\n",
       "      <td>DDV, KXI, MIN, RCB, GUJ, KKR</td>\n",
       "      <td>229</td>\n",
       "      <td>4376</td>\n",
       "      <td>26.85</td>\n",
       "      <td>0</td>\n",
       "      <td>NaN</td>\n",
       "      <td>6</td>\n",
       "      <td>False</td>\n",
       "      <td>False</td>\n",
       "      <td>False</td>\n",
       "    </tr>\n",
       "    <tr>\n",
       "      <th>523</th>\n",
       "      <td>R G Sharma</td>\n",
       "      <td>DCH, MIN</td>\n",
       "      <td>227</td>\n",
       "      <td>5879</td>\n",
       "      <td>30.30</td>\n",
       "      <td>15</td>\n",
       "      <td>32.53</td>\n",
       "      <td>2</td>\n",
       "      <td>False</td>\n",
       "      <td>False</td>\n",
       "      <td>False</td>\n",
       "    </tr>\n",
       "    <tr>\n",
       "      <th>268</th>\n",
       "      <td>V Kohli</td>\n",
       "      <td>RCB</td>\n",
       "      <td>223</td>\n",
       "      <td>6624</td>\n",
       "      <td>36.20</td>\n",
       "      <td>4</td>\n",
       "      <td>92.00</td>\n",
       "      <td>1</td>\n",
       "      <td>False</td>\n",
       "      <td>False</td>\n",
       "      <td>False</td>\n",
       "    </tr>\n",
       "    <tr>\n",
       "      <th>222</th>\n",
       "      <td>R A Jadeja</td>\n",
       "      <td>RRO, KTK, CSK, GUJ</td>\n",
       "      <td>210</td>\n",
       "      <td>2502</td>\n",
       "      <td>26.62</td>\n",
       "      <td>132</td>\n",
       "      <td>30.79</td>\n",
       "      <td>4</td>\n",
       "      <td>False</td>\n",
       "      <td>True</td>\n",
       "      <td>False</td>\n",
       "    </tr>\n",
       "  </tbody>\n",
       "</table>\n",
       "</div>"
      ],
      "text/plain": [
       "            Name                         Teams  Matches  Runs  Bat Avg  \\\n",
       "134    M S Dhoni                      CSK, RPS      234  4978    39.20   \n",
       "249  K D Karthik  DDV, KXI, MIN, RCB, GUJ, KKR      229  4376    26.85   \n",
       "523   R G Sharma                      DCH, MIN      227  5879    30.30   \n",
       "268      V Kohli                           RCB      223  6624    36.20   \n",
       "222   R A Jadeja            RRO, KTK, CSK, GUJ      210  2502    26.62   \n",
       "\n",
       "     Wickets  Bowl Avg  team_count  Best_Batsman  Best_player  Best_bowler  \n",
       "134        0       NaN           2         False        False        False  \n",
       "249        0       NaN           6         False        False        False  \n",
       "523       15     32.53           2         False        False        False  \n",
       "268        4     92.00           1         False        False        False  \n",
       "222      132     30.79           4         False         True        False  "
      ]
     },
     "execution_count": 23,
     "metadata": {},
     "output_type": "execute_result"
    }
   ],
   "source": [
    "df2_sort=df2.sort_values(\"Matches\",ascending=False)\n",
    "Highest_match=df2_sort.head()#find the players .. top 5 highest matches played \n",
    "Highest_match"
   ]
  },
  {
   "cell_type": "markdown",
   "id": "a689a21f",
   "metadata": {},
   "source": [
    "## TOP 5 HIGHEST MATCHES PLAYED"
   ]
  },
  {
   "cell_type": "code",
   "execution_count": 24,
   "id": "6209b263",
   "metadata": {},
   "outputs": [
    {
     "data": {
      "image/png": "[encoded data removed]",
      "text/plain": [
       "<Figure size 720x360 with 1 Axes>"
      ]
     },
     "metadata": {
      "needs_background": "light"
     },
     "output_type": "display_data"
    }
   ],
   "source": [
    "plt.figure(figsize=(10,5))\n",
    "sns.barplot( x = Highest_match['Name'], y = Highest_match['Runs'], data = Highest_match)\n",
    "plt.xticks(rotation=0)\n",
    "plt.show()"
   ]
  },
  {
   "cell_type": "markdown",
   "id": "efcba215",
   "metadata": {},
   "source": [
    "### Observation -\n",
    "comparing above data ,\n",
    "v kohli has played highest matches along with scoring highest runs "
   ]
  },
  {
   "cell_type": "code",
   "execution_count": 25,
   "id": "e4e90940",
   "metadata": {},
   "outputs": [
    {
     "data": {
      "image/png": "[encoded data removed]",
      "text/plain": [
       "<Figure size 360x360 with 1 Axes>"
      ]
     },
     "metadata": {
      "needs_background": "light"
     },
     "output_type": "display_data"
    }
   ],
   "source": [
    "plt.figure(figsize=(5,5))\n",
    "sns.barplot( x ='Name',y='team_count', data = Highest_match)\n",
    "plt.xlabel\n",
    "plt.xticks(rotation=0)\n",
    "plt.show()"
   ]
  },
  {
   "cell_type": "markdown",
   "id": "0e8da0f1",
   "metadata": {},
   "source": [
    "#### these graph represent ,,who playerd highest matches and they played in different team "
   ]
  },
  {
   "cell_type": "code",
   "execution_count": 26,
   "id": "f9f8479b",
   "metadata": {},
   "outputs": [
    {
     "data": {
      "image/png": "[encoded data removed]",
      "text/plain": [
       "<Figure size 720x720 with 4 Axes>"
      ]
     },
     "metadata": {
      "needs_background": "light"
     },
     "output_type": "display_data"
    }
   ],
   "source": [
    "fig, axs = plt.subplots(2, 2, figsize=(10, 10))\n",
    "sns.distplot(Highest_match[\"Matches\"],kde=True,color=\"skyblue\", ax=axs[0, 0])\n",
    "sns.distplot(Highest_match[\"Runs\"],kde=True, color=\"olive\", ax=axs[0, 1])\n",
    "sns.distplot(Highest_match[\"Wickets\"],kde=True,color=\"gold\", ax=axs[1, 0])\n",
    "sns.distplot(Highest_match[\"Bat Avg\"], kde=True, color=\"teal\", ax=axs[1, 1])\n",
    "plt.show()\n",
    "#below plot represent distrubution of varies elements in the extracted data"
   ]
  },
  {
   "cell_type": "markdown",
   "id": "a2b22925",
   "metadata": {},
   "source": [
    "### top 5 players with highest runs"
   ]
  },
  {
   "cell_type": "code",
   "execution_count": 27,
   "id": "2e19a138",
   "metadata": {},
   "outputs": [
    {
     "data": {
      "text/html": [
       "<div>\n",
       "<style scoped>\n",
       "    .dataframe tbody tr th:only-of-type {\n",
       "        vertical-align: middle;\n",
       "    }\n",
       "\n",
       "    .dataframe tbody tr th {\n",
       "        vertical-align: top;\n",
       "    }\n",
       "\n",
       "    .dataframe thead th {\n",
       "        text-align: right;\n",
       "    }\n",
       "</style>\n",
       "<table border=\"1\" class=\"dataframe\">\n",
       "  <thead>\n",
       "    <tr style=\"text-align: right;\">\n",
       "      <th></th>\n",
       "      <th>Name</th>\n",
       "      <th>Teams</th>\n",
       "      <th>Matches</th>\n",
       "      <th>Runs</th>\n",
       "      <th>Bat Avg</th>\n",
       "      <th>Wickets</th>\n",
       "      <th>Bowl Avg</th>\n",
       "      <th>team_count</th>\n",
       "      <th>Best_Batsman</th>\n",
       "      <th>Best_player</th>\n",
       "      <th>Best_bowler</th>\n",
       "    </tr>\n",
       "  </thead>\n",
       "  <tbody>\n",
       "    <tr>\n",
       "      <th>268</th>\n",
       "      <td>V Kohli</td>\n",
       "      <td>RCB</td>\n",
       "      <td>223</td>\n",
       "      <td>6624</td>\n",
       "      <td>36.20</td>\n",
       "      <td>4</td>\n",
       "      <td>92.00</td>\n",
       "      <td>1</td>\n",
       "      <td>False</td>\n",
       "      <td>False</td>\n",
       "      <td>False</td>\n",
       "    </tr>\n",
       "    <tr>\n",
       "      <th>133</th>\n",
       "      <td>S Dhawan</td>\n",
       "      <td>DDV, MIN, DCH, SUN, KXI</td>\n",
       "      <td>206</td>\n",
       "      <td>6244</td>\n",
       "      <td>35.08</td>\n",
       "      <td>4</td>\n",
       "      <td>16.50</td>\n",
       "      <td>5</td>\n",
       "      <td>False</td>\n",
       "      <td>False</td>\n",
       "      <td>False</td>\n",
       "    </tr>\n",
       "    <tr>\n",
       "      <th>634</th>\n",
       "      <td>D A Warner</td>\n",
       "      <td>DDV, SUN</td>\n",
       "      <td>162</td>\n",
       "      <td>5881</td>\n",
       "      <td>42.01</td>\n",
       "      <td>0</td>\n",
       "      <td>NaN</td>\n",
       "      <td>2</td>\n",
       "      <td>True</td>\n",
       "      <td>False</td>\n",
       "      <td>False</td>\n",
       "    </tr>\n",
       "    <tr>\n",
       "      <th>523</th>\n",
       "      <td>R G Sharma</td>\n",
       "      <td>DCH, MIN</td>\n",
       "      <td>227</td>\n",
       "      <td>5879</td>\n",
       "      <td>30.30</td>\n",
       "      <td>15</td>\n",
       "      <td>32.53</td>\n",
       "      <td>2</td>\n",
       "      <td>False</td>\n",
       "      <td>False</td>\n",
       "      <td>False</td>\n",
       "    </tr>\n",
       "    <tr>\n",
       "      <th>444</th>\n",
       "      <td>S K Raina</td>\n",
       "      <td>CSK, GUJ</td>\n",
       "      <td>205</td>\n",
       "      <td>5528</td>\n",
       "      <td>32.52</td>\n",
       "      <td>25</td>\n",
       "      <td>45.80</td>\n",
       "      <td>2</td>\n",
       "      <td>False</td>\n",
       "      <td>True</td>\n",
       "      <td>False</td>\n",
       "    </tr>\n",
       "  </tbody>\n",
       "</table>\n",
       "</div>"
      ],
      "text/plain": [
       "           Name                    Teams  Matches  Runs  Bat Avg  Wickets  \\\n",
       "268     V Kohli                      RCB      223  6624    36.20        4   \n",
       "133    S Dhawan  DDV, MIN, DCH, SUN, KXI      206  6244    35.08        4   \n",
       "634  D A Warner                 DDV, SUN      162  5881    42.01        0   \n",
       "523  R G Sharma                 DCH, MIN      227  5879    30.30       15   \n",
       "444   S K Raina                 CSK, GUJ      205  5528    32.52       25   \n",
       "\n",
       "     Bowl Avg  team_count  Best_Batsman  Best_player  Best_bowler  \n",
       "268     92.00           1         False        False        False  \n",
       "133     16.50           5         False        False        False  \n",
       "634       NaN           2          True        False        False  \n",
       "523     32.53           2         False        False        False  \n",
       "444     45.80           2         False         True        False  "
      ]
     },
     "execution_count": 27,
     "metadata": {},
     "output_type": "execute_result"
    }
   ],
   "source": [
    "df2_run_sort=df2.sort_values(\"Runs\",ascending=False)\n",
    "Highest_runs=df2_run_sort.head()\n",
    "Highest_runs"
   ]
  },
  {
   "cell_type": "code",
   "execution_count": 28,
   "id": "3c8116be",
   "metadata": {},
   "outputs": [
    {
     "data": {
      "image/png": "[encoded data removed]",
      "text/plain": [
       "<Figure size 360x360 with 1 Axes>"
      ]
     },
     "metadata": {},
     "output_type": "display_data"
    }
   ],
   "source": [
    "\n",
    "Best_batsman=Highest_runs.plot.pie(y='Runs',figsize=(5,5),labels=Highest_runs['Name'],legend=False,shadow=True,autopct='%1.1f%%')"
   ]
  },
  {
   "cell_type": "markdown",
   "id": "ef5982d0",
   "metadata": {},
   "source": [
    "### top 5 highest wkt takers"
   ]
  },
  {
   "cell_type": "code",
   "execution_count": 50,
   "id": "49e61dde",
   "metadata": {},
   "outputs": [
    {
     "data": {
      "text/html": [
       "<div>\n",
       "<style scoped>\n",
       "    .dataframe tbody tr th:only-of-type {\n",
       "        vertical-align: middle;\n",
       "    }\n",
       "\n",
       "    .dataframe tbody tr th {\n",
       "        vertical-align: top;\n",
       "    }\n",
       "\n",
       "    .dataframe thead th {\n",
       "        text-align: right;\n",
       "    }\n",
       "</style>\n",
       "<table border=\"1\" class=\"dataframe\">\n",
       "  <thead>\n",
       "    <tr style=\"text-align: right;\">\n",
       "      <th></th>\n",
       "      <th>Name</th>\n",
       "      <th>Teams</th>\n",
       "      <th>Matches</th>\n",
       "      <th>Runs</th>\n",
       "      <th>Bat Avg</th>\n",
       "      <th>Wickets</th>\n",
       "      <th>Bowl Avg</th>\n",
       "      <th>team_count</th>\n",
       "      <th>Best_Batsman</th>\n",
       "      <th>Best_player</th>\n",
       "      <th>Best_bowler</th>\n",
       "    </tr>\n",
       "  </thead>\n",
       "  <tbody>\n",
       "    <tr>\n",
       "      <th>82</th>\n",
       "      <td>D J J Bravo</td>\n",
       "      <td>MIN, CSK, GUJ</td>\n",
       "      <td>161</td>\n",
       "      <td>1560</td>\n",
       "      <td>22.61</td>\n",
       "      <td>183</td>\n",
       "      <td>23.83</td>\n",
       "      <td>3</td>\n",
       "      <td>False</td>\n",
       "      <td>True</td>\n",
       "      <td>False</td>\n",
       "    </tr>\n",
       "    <tr>\n",
       "      <th>300</th>\n",
       "      <td>S L Malinga</td>\n",
       "      <td>MIN</td>\n",
       "      <td>122</td>\n",
       "      <td>88</td>\n",
       "      <td>5.50</td>\n",
       "      <td>170</td>\n",
       "      <td>19.85</td>\n",
       "      <td>1</td>\n",
       "      <td>False</td>\n",
       "      <td>True</td>\n",
       "      <td>True</td>\n",
       "    </tr>\n",
       "    <tr>\n",
       "      <th>332</th>\n",
       "      <td>A Mishra</td>\n",
       "      <td>DDV, DCH, SUN</td>\n",
       "      <td>154</td>\n",
       "      <td>362</td>\n",
       "      <td>11.68</td>\n",
       "      <td>166</td>\n",
       "      <td>23.98</td>\n",
       "      <td>3</td>\n",
       "      <td>False</td>\n",
       "      <td>True</td>\n",
       "      <td>False</td>\n",
       "    </tr>\n",
       "    <tr>\n",
       "      <th>90</th>\n",
       "      <td>Y S Chahal</td>\n",
       "      <td>MIN, RCB, RRO</td>\n",
       "      <td>131</td>\n",
       "      <td>37</td>\n",
       "      <td>5.29</td>\n",
       "      <td>166</td>\n",
       "      <td>21.83</td>\n",
       "      <td>3</td>\n",
       "      <td>False</td>\n",
       "      <td>True</td>\n",
       "      <td>False</td>\n",
       "    </tr>\n",
       "    <tr>\n",
       "      <th>98</th>\n",
       "      <td>P P Chawla</td>\n",
       "      <td>KXI, KKR, CSK, MIN</td>\n",
       "      <td>165</td>\n",
       "      <td>584</td>\n",
       "      <td>11.68</td>\n",
       "      <td>157</td>\n",
       "      <td>27.39</td>\n",
       "      <td>4</td>\n",
       "      <td>False</td>\n",
       "      <td>True</td>\n",
       "      <td>False</td>\n",
       "    </tr>\n",
       "  </tbody>\n",
       "</table>\n",
       "</div>"
      ],
      "text/plain": [
       "            Name               Teams  Matches  Runs  Bat Avg  Wickets  \\\n",
       "82   D J J Bravo       MIN, CSK, GUJ      161  1560    22.61      183   \n",
       "300  S L Malinga                 MIN      122    88     5.50      170   \n",
       "332     A Mishra       DDV, DCH, SUN      154   362    11.68      166   \n",
       "90    Y S Chahal       MIN, RCB, RRO      131    37     5.29      166   \n",
       "98    P P Chawla  KXI, KKR, CSK, MIN      165   584    11.68      157   \n",
       "\n",
       "     Bowl Avg  team_count  Best_Batsman  Best_player  Best_bowler  \n",
       "82      23.83           3         False         True        False  \n",
       "300     19.85           1         False         True         True  \n",
       "332     23.98           3         False         True        False  \n",
       "90      21.83           3         False         True        False  \n",
       "98      27.39           4         False         True        False  "
      ]
     },
     "execution_count": 50,
     "metadata": {},
     "output_type": "execute_result"
    }
   ],
   "source": [
    "df2_wkt_sort=df2.sort_values(\"Wickets\",ascending=False)\n",
    "Highest_wkt=df2_wkt_sort.head()\n",
    "\n",
    "Highest_wkt"
   ]
  },
  {
   "cell_type": "code",
   "execution_count": 45,
   "id": "a3753259",
   "metadata": {},
   "outputs": [
    {
     "data": {
      "image/png": "[encoded data removed]",
      "text/plain": [
       "<Figure size 360x360 with 1 Axes>"
      ]
     },
     "metadata": {},
     "output_type": "display_data"
    }
   ],
   "source": [
    "\n",
    "Best_bowlers=Highest_wkt.plot.pie(y='Wickets',figsize=(5,5),labels=Highest_wkt['Name'],legend=False,shadow=True,autopct='%1.1f%%')"
   ]
  },
  {
   "cell_type": "code",
   "execution_count": 46,
   "id": "90b471b3",
   "metadata": {},
   "outputs": [
    {
     "data": {
      "image/png": "[encoded data removed]",
      "text/plain": [
       "<Figure size 1440x360 with 1 Axes>"
      ]
     },
     "metadata": {
      "needs_background": "light"
     },
     "output_type": "display_data"
    }
   ],
   "source": [
    "plt.figure(figsize=(20,5))\n",
    "sns.boxplot(x='Runs',data =Highest_wkt)\n",
    "plt.show() "
   ]
  },
  {
   "cell_type": "code",
   "execution_count": 47,
   "id": "58204b11",
   "metadata": {},
   "outputs": [
    {
     "data": {
      "text/plain": [
       "<matplotlib.axes._subplots.AxesSubplot at 0x202166e54c0>"
      ]
     },
     "execution_count": 47,
     "metadata": {},
     "output_type": "execute_result"
    },
    {
     "data": {
      "image/png": "[encoded data removed]",
      "text/plain": [
       "<Figure size 432x288 with 1 Axes>"
      ]
     },
     "metadata": {
      "needs_background": "light"
     },
     "output_type": "display_data"
    }
   ],
   "source": [
    "Highest_runs.boxplot(by ='Name' , column =['Runs'],grid= False)"
   ]
  },
  {
   "cell_type": "code",
   "execution_count": 55,
   "id": "236a3a0f",
   "metadata": {},
   "outputs": [
    {
     "data": {
      "text/plain": [
       "<matplotlib.axes._subplots.AxesSubplot at 0x202193c37c0>"
      ]
     },
     "execution_count": 55,
     "metadata": {},
     "output_type": "execute_result"
    },
    {
     "data": {
      "image/png": "[encoded data removed]",
      "text/plain": [
       "<Figure size 432x288 with 1 Axes>"
      ]
     },
     "metadata": {
      "needs_background": "light"
     },
     "output_type": "display_data"
    }
   ],
   "source": [
    "j.plot.scatter(x ='Bowl Avg' , y ='Wickets')"
   ]
  },
  {
   "cell_type": "code",
   "execution_count": 67,
   "id": "2e44dee1",
   "metadata": {},
   "outputs": [
    {
     "ename": "AttributeError",
     "evalue": "module 'seaborn' has no attribute 'plt'",
     "output_type": "error",
     "traceback": [
      "\u001b[1;31m---------------------------------------------------------------------------\u001b[0m",
      "\u001b[1;31mAttributeError\u001b[0m                            Traceback (most recent call last)",
      "\u001b[1;32m<ipython-input-67-32b004da305f>\u001b[0m in \u001b[0;36m<module>\u001b[1;34m\u001b[0m\n\u001b[0;32m      1\u001b[0m \u001b[0msns\u001b[0m\u001b[1;33m.\u001b[0m\u001b[0mpairplot\u001b[0m\u001b[1;33m(\u001b[0m\u001b[0mdf1\u001b[0m\u001b[1;33m.\u001b[0m\u001b[0mhead\u001b[0m\u001b[1;33m(\u001b[0m\u001b[1;36m20\u001b[0m\u001b[1;33m)\u001b[0m\u001b[1;33m,\u001b[0m\u001b[0mkind\u001b[0m\u001b[1;33m=\u001b[0m\u001b[1;34m\"scatter\"\u001b[0m\u001b[1;33m)\u001b[0m\u001b[1;33m\u001b[0m\u001b[1;33m\u001b[0m\u001b[0m\n\u001b[1;32m----> 2\u001b[1;33m \u001b[0msns\u001b[0m\u001b[1;33m.\u001b[0m\u001b[0mplt\u001b[0m\u001b[1;33m.\u001b[0m\u001b[0mshow\u001b[0m\u001b[1;33m(\u001b[0m\u001b[1;33m)\u001b[0m\u001b[1;33m\u001b[0m\u001b[1;33m\u001b[0m\u001b[0m\n\u001b[0m",
      "\u001b[1;31mAttributeError\u001b[0m: module 'seaborn' has no attribute 'plt'"
     ]
    },
    {
     "data": {
      "image/png": "[encoded data removed]",
      "text/plain": [
       "<Figure size 900x900 with 30 Axes>"
      ]
     },
     "metadata": {
      "needs_background": "light"
     },
     "output_type": "display_data"
    }
   ],
   "source": [
    "sns.pairplot(df1.head(20),kind=\"scatter\")\n",
    "sns.plt.show()"
   ]
  },
  {
   "cell_type": "code",
   "execution_count": 71,
   "id": "91e6a4b6",
   "metadata": {},
   "outputs": [
    {
     "ename": "TypeError",
     "evalue": "'DataFrame' object is not callable",
     "output_type": "error",
     "traceback": [
      "\u001b[1;31m---------------------------------------------------------------------------\u001b[0m",
      "\u001b[1;31mTypeError\u001b[0m                                 Traceback (most recent call last)",
      "\u001b[1;32m<ipython-input-71-5863cd18b11a>\u001b[0m in \u001b[0;36m<module>\u001b[1;34m\u001b[0m\n\u001b[1;32m----> 1\u001b[1;33m \u001b[0msns\u001b[0m\u001b[1;33m.\u001b[0m\u001b[0mheatmap\u001b[0m\u001b[1;33m(\u001b[0m\u001b[0mHighest_runs\u001b[0m\u001b[1;33m(\u001b[0m\u001b[1;33m)\u001b[0m\u001b[1;33m)\u001b[0m\u001b[1;33m\u001b[0m\u001b[1;33m\u001b[0m\u001b[0m\n\u001b[0m\u001b[0;32m      2\u001b[0m \u001b[1;33m\u001b[0m\u001b[0m\n\u001b[0;32m      3\u001b[0m \u001b[0msns\u001b[0m\u001b[1;33m.\u001b[0m\u001b[0mplt\u001b[0m\u001b[1;33m.\u001b[0m\u001b[0mshow\u001b[0m\u001b[1;33m(\u001b[0m\u001b[1;33m)\u001b[0m\u001b[1;33m\u001b[0m\u001b[1;33m\u001b[0m\u001b[0m\n",
      "\u001b[1;31mTypeError\u001b[0m: 'DataFrame' object is not callable"
     ]
    }
   ],
   "source": [
    "sns.heatmap(Highest_runs())\n",
    "\n",
    "sns.plt.show()"
   ]
  },
  {
   "cell_type": "code",
   "execution_count": null,
   "id": "39644d6c",
   "metadata": {},
   "outputs": [],
   "source": []
  }
 ],
 "metadata": {
  "kernelspec": {
   "display_name": "Python 3 (ipykernel)",
   "language": "python",
   "name": "python3"
  },
  "language_info": {
   "codemirror_mode": {
    "name": "ipython",
    "version": 3
   },
   "file_extension": ".py",
   "mimetype": "text/x-python",
   "name": "python",
   "nbconvert_exporter": "python",
   "pygments_lexer": "ipython3",
   "version": "3.9.7"
  }
 },
 "nbformat": 4,
 "nbformat_minor": 5
}
